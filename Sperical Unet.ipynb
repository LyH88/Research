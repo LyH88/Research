{
 "cells": [
  {
   "cell_type": "code",
   "execution_count": 76,
   "metadata": {},
   "outputs": [],
   "source": [
    "import os\n",
    "from os import listdir\n",
    "from os.path import isdir, join\n",
    "import numpy as np\n",
    "mypath = '/fs4/masi/lyui/CASCIO_CM'\n",
    "h = []\n",
    "ct = []\n",
    "lgi = []\n",
    "sci =[]\n",
    "s = []\n",
    "sd = []\n",
    "for root, dirs, files in os.walk(mypath):\n",
    "    dirs.sort()\n",
    "    for file in files:\n",
    "        if file.endswith('lh.mid.reg.H.txt'):\n",
    "            h.append(join(root, file))\n",
    "        elif file.endswith('lh.mid.reg.CT.txt'):\n",
    "            ct.append(join(root, file))\n",
    "        elif file.endswith('lh.mid.reg.LGI.txt'):\n",
    "            lgi.append(join(root, file))\n",
    "        elif file.endswith('lh.mid.reg.SCI.txt'):\n",
    "            sci.append(join(root, file))\n",
    "        elif file.endswith('lh.mid.reg.S.txt'):\n",
    "            s.append(join(root, file))\n",
    "        elif file.endswith('lh.mid.reg.SD.txt'):\n",
    "            sd.append(join(root, file))"
   ]
  },
  {
   "cell_type": "code",
   "execution_count": 77,
   "metadata": {
    "scrolled": true
   },
   "outputs": [
    {
     "name": "stdout",
     "output_type": "stream",
     "text": [
      "258\n"
     ]
    }
   ],
   "source": [
    "print(len(ct))"
   ]
  },
  {
   "cell_type": "code",
   "execution_count": 80,
   "metadata": {},
   "outputs": [],
   "source": [
    "H = np.array([])\n",
    "for i in range(0, len(h)):\n",
    "    H = np.concatenate([H,np.loadtxt(fname = h[i])])  \n",
    "\n",
    "CT = np.array([])\n",
    "for i in range(0, len(ct)):\n",
    "    CT = np.concatenate([CT,np.loadtxt(fname = ct[i])])  \n",
    "\n",
    "LGI = np.array([])\n",
    "for i in range(0, len(lgi)):\n",
    "    LGI = np.concatenate([LGI,np.loadtxt(fname = lgi[i])])  \n",
    "\n",
    "SCI = np.array([])\n",
    "for i in range(0, len(sci)):\n",
    "    SCI = np.concatenate([SCI,np.loadtxt(fname = sci[i])]) \n",
    "\n",
    "S = np.array([])\n",
    "for i in range(0, len(s)):\n",
    "    S = np.concatenate([S,np.loadtxt(fname = s[i])])  \n",
    "\n",
    "SD = np.array([])\n",
    "for i in range(0, len(sd)):\n",
    "    SD = np.concatenate([SD,np.loadtxt(fname = sd[i])])"
   ]
  },
  {
   "cell_type": "code",
   "execution_count": 81,
   "metadata": {
    "scrolled": true
   },
   "outputs": [
    {
     "data": {
      "text/plain": [
       "(258, 163842)"
      ]
     },
     "execution_count": 81,
     "metadata": {},
     "output_type": "execute_result"
    }
   ],
   "source": [
    "list = [H, CT, LGI, SCI, S, SD]\n",
    "for i in len(list):\n",
    "    i = np.reshape(i, (-1,163842))"
   ]
  },
  {
   "cell_type": "code",
   "execution_count": null,
   "metadata": {},
   "outputs": [],
   "source": []
  },
  {
   "cell_type": "code",
   "execution_count": null,
   "metadata": {},
   "outputs": [],
   "source": []
  },
  {
   "cell_type": "code",
   "execution_count": null,
   "metadata": {},
   "outputs": [],
   "source": []
  },
  {
   "cell_type": "code",
   "execution_count": null,
   "metadata": {},
   "outputs": [],
   "source": []
  }
 ],
 "metadata": {
  "kernelspec": {
   "display_name": "Python 3",
   "language": "python",
   "name": "python3"
  },
  "language_info": {
   "codemirror_mode": {
    "name": "ipython",
    "version": 3
   },
   "file_extension": ".py",
   "mimetype": "text/x-python",
   "name": "python",
   "nbconvert_exporter": "python",
   "pygments_lexer": "ipython3",
   "version": "3.7.3"
  }
 },
 "nbformat": 4,
 "nbformat_minor": 2
}
